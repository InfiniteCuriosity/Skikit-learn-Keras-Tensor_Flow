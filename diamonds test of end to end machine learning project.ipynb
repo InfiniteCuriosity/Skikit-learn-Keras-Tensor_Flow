{
 "cells": [
  {
   "cell_type": "code",
   "execution_count": 81,
   "metadata": {
    "collapsed": true
   },
   "outputs": [
    {
     "data": {
      "text/plain": "   carat      cut color clarity  depth  table  price     x     y     z\n0   0.23    Ideal     E     SI2   61.5   55.0    326  3.95  3.98  2.43\n1   0.21  Premium     E     SI1   59.8   61.0    326  3.89  3.84  2.31\n2   0.23     Good     E     VS1   56.9   65.0    327  4.05  4.07  2.31\n3   0.29  Premium     I     VS2   62.4   58.0    334  4.20  4.23  2.63\n4   0.31     Good     J     SI2   63.3   58.0    335  4.34  4.35  2.75",
      "text/html": "<div>\n<style scoped>\n    .dataframe tbody tr th:only-of-type {\n        vertical-align: middle;\n    }\n\n    .dataframe tbody tr th {\n        vertical-align: top;\n    }\n\n    .dataframe thead th {\n        text-align: right;\n    }\n</style>\n<table border=\"1\" class=\"dataframe\">\n  <thead>\n    <tr style=\"text-align: right;\">\n      <th></th>\n      <th>carat</th>\n      <th>cut</th>\n      <th>color</th>\n      <th>clarity</th>\n      <th>depth</th>\n      <th>table</th>\n      <th>price</th>\n      <th>x</th>\n      <th>y</th>\n      <th>z</th>\n    </tr>\n  </thead>\n  <tbody>\n    <tr>\n      <th>0</th>\n      <td>0.23</td>\n      <td>Ideal</td>\n      <td>E</td>\n      <td>SI2</td>\n      <td>61.5</td>\n      <td>55.0</td>\n      <td>326</td>\n      <td>3.95</td>\n      <td>3.98</td>\n      <td>2.43</td>\n    </tr>\n    <tr>\n      <th>1</th>\n      <td>0.21</td>\n      <td>Premium</td>\n      <td>E</td>\n      <td>SI1</td>\n      <td>59.8</td>\n      <td>61.0</td>\n      <td>326</td>\n      <td>3.89</td>\n      <td>3.84</td>\n      <td>2.31</td>\n    </tr>\n    <tr>\n      <th>2</th>\n      <td>0.23</td>\n      <td>Good</td>\n      <td>E</td>\n      <td>VS1</td>\n      <td>56.9</td>\n      <td>65.0</td>\n      <td>327</td>\n      <td>4.05</td>\n      <td>4.07</td>\n      <td>2.31</td>\n    </tr>\n    <tr>\n      <th>3</th>\n      <td>0.29</td>\n      <td>Premium</td>\n      <td>I</td>\n      <td>VS2</td>\n      <td>62.4</td>\n      <td>58.0</td>\n      <td>334</td>\n      <td>4.20</td>\n      <td>4.23</td>\n      <td>2.63</td>\n    </tr>\n    <tr>\n      <th>4</th>\n      <td>0.31</td>\n      <td>Good</td>\n      <td>J</td>\n      <td>SI2</td>\n      <td>63.3</td>\n      <td>58.0</td>\n      <td>335</td>\n      <td>4.34</td>\n      <td>4.35</td>\n      <td>2.75</td>\n    </tr>\n  </tbody>\n</table>\n</div>"
     },
     "execution_count": 81,
     "metadata": {},
     "output_type": "execute_result"
    }
   ],
   "source": [
    "import pandas as pd\n",
    "diamonds = pd.read_csv('/Users/russellconte/diamonds.csv')\n",
    "diamonds = diamonds.iloc[:, 1:]\n",
    "diamonds.head()"
   ]
  },
  {
   "cell_type": "code",
   "execution_count": 82,
   "outputs": [
    {
     "name": "stdout",
     "output_type": "stream",
     "text": [
      "<class 'pandas.core.frame.DataFrame'>\n",
      "RangeIndex: 53940 entries, 0 to 53939\n",
      "Data columns (total 10 columns):\n",
      " #   Column   Non-Null Count  Dtype  \n",
      "---  ------   --------------  -----  \n",
      " 0   carat    53940 non-null  float64\n",
      " 1   cut      53940 non-null  object \n",
      " 2   color    53940 non-null  object \n",
      " 3   clarity  53940 non-null  object \n",
      " 4   depth    53940 non-null  float64\n",
      " 5   table    53940 non-null  float64\n",
      " 6   price    53940 non-null  int64  \n",
      " 7   x        53940 non-null  float64\n",
      " 8   y        53940 non-null  float64\n",
      " 9   z        53940 non-null  float64\n",
      "dtypes: float64(6), int64(1), object(3)\n",
      "memory usage: 4.1+ MB\n"
     ]
    }
   ],
   "source": [
    "diamonds.info()"
   ],
   "metadata": {
    "collapsed": false,
    "pycharm": {
     "name": "#%%\n"
    }
   }
  },
  {
   "cell_type": "code",
   "execution_count": 83,
   "outputs": [
    {
     "name": "stdout",
     "output_type": "stream",
     "text": [
      "Ideal        21551\n",
      "Premium      13791\n",
      "Very Good    12082\n",
      "Good          4906\n",
      "Fair          1610\n",
      "Name: cut, dtype: int64\n",
      "G    11292\n",
      "E     9797\n",
      "F     9542\n",
      "H     8304\n",
      "D     6775\n",
      "I     5422\n",
      "J     2808\n",
      "Name: color, dtype: int64\n",
      "SI1     13065\n",
      "VS2     12258\n",
      "SI2      9194\n",
      "VS1      8171\n",
      "VVS2     5066\n",
      "VVS1     3655\n",
      "IF       1790\n",
      "I1        741\n",
      "Name: clarity, dtype: int64\n"
     ]
    }
   ],
   "source": [
    "print(diamonds[\"cut\"].value_counts())\n",
    "print(diamonds[\"color\"].value_counts())\n",
    "print(diamonds[\"clarity\"].value_counts())"
   ],
   "metadata": {
    "collapsed": false,
    "pycharm": {
     "name": "#%%\n"
    }
   }
  },
  {
   "cell_type": "code",
   "execution_count": 84,
   "outputs": [
    {
     "data": {
      "text/plain": "              carat         depth         table         price             x  \\\ncount  53940.000000  53940.000000  53940.000000  53940.000000  53940.000000   \nmean       0.797940     61.749405     57.457184   3932.799722      5.731157   \nstd        0.474011      1.432621      2.234491   3989.439738      1.121761   \nmin        0.200000     43.000000     43.000000    326.000000      0.000000   \n25%        0.400000     61.000000     56.000000    950.000000      4.710000   \n50%        0.700000     61.800000     57.000000   2401.000000      5.700000   \n75%        1.040000     62.500000     59.000000   5324.250000      6.540000   \nmax        5.010000     79.000000     95.000000  18823.000000     10.740000   \n\n                  y             z  \ncount  53940.000000  53940.000000  \nmean       5.734526      3.538734  \nstd        1.142135      0.705699  \nmin        0.000000      0.000000  \n25%        4.720000      2.910000  \n50%        5.710000      3.530000  \n75%        6.540000      4.040000  \nmax       58.900000     31.800000  ",
      "text/html": "<div>\n<style scoped>\n    .dataframe tbody tr th:only-of-type {\n        vertical-align: middle;\n    }\n\n    .dataframe tbody tr th {\n        vertical-align: top;\n    }\n\n    .dataframe thead th {\n        text-align: right;\n    }\n</style>\n<table border=\"1\" class=\"dataframe\">\n  <thead>\n    <tr style=\"text-align: right;\">\n      <th></th>\n      <th>carat</th>\n      <th>depth</th>\n      <th>table</th>\n      <th>price</th>\n      <th>x</th>\n      <th>y</th>\n      <th>z</th>\n    </tr>\n  </thead>\n  <tbody>\n    <tr>\n      <th>count</th>\n      <td>53940.000000</td>\n      <td>53940.000000</td>\n      <td>53940.000000</td>\n      <td>53940.000000</td>\n      <td>53940.000000</td>\n      <td>53940.000000</td>\n      <td>53940.000000</td>\n    </tr>\n    <tr>\n      <th>mean</th>\n      <td>0.797940</td>\n      <td>61.749405</td>\n      <td>57.457184</td>\n      <td>3932.799722</td>\n      <td>5.731157</td>\n      <td>5.734526</td>\n      <td>3.538734</td>\n    </tr>\n    <tr>\n      <th>std</th>\n      <td>0.474011</td>\n      <td>1.432621</td>\n      <td>2.234491</td>\n      <td>3989.439738</td>\n      <td>1.121761</td>\n      <td>1.142135</td>\n      <td>0.705699</td>\n    </tr>\n    <tr>\n      <th>min</th>\n      <td>0.200000</td>\n      <td>43.000000</td>\n      <td>43.000000</td>\n      <td>326.000000</td>\n      <td>0.000000</td>\n      <td>0.000000</td>\n      <td>0.000000</td>\n    </tr>\n    <tr>\n      <th>25%</th>\n      <td>0.400000</td>\n      <td>61.000000</td>\n      <td>56.000000</td>\n      <td>950.000000</td>\n      <td>4.710000</td>\n      <td>4.720000</td>\n      <td>2.910000</td>\n    </tr>\n    <tr>\n      <th>50%</th>\n      <td>0.700000</td>\n      <td>61.800000</td>\n      <td>57.000000</td>\n      <td>2401.000000</td>\n      <td>5.700000</td>\n      <td>5.710000</td>\n      <td>3.530000</td>\n    </tr>\n    <tr>\n      <th>75%</th>\n      <td>1.040000</td>\n      <td>62.500000</td>\n      <td>59.000000</td>\n      <td>5324.250000</td>\n      <td>6.540000</td>\n      <td>6.540000</td>\n      <td>4.040000</td>\n    </tr>\n    <tr>\n      <th>max</th>\n      <td>5.010000</td>\n      <td>79.000000</td>\n      <td>95.000000</td>\n      <td>18823.000000</td>\n      <td>10.740000</td>\n      <td>58.900000</td>\n      <td>31.800000</td>\n    </tr>\n  </tbody>\n</table>\n</div>"
     },
     "execution_count": 84,
     "metadata": {},
     "output_type": "execute_result"
    }
   ],
   "source": [
    "# let's look at the numerical fields\n",
    "\n",
    "diamonds.describe()"
   ],
   "metadata": {
    "collapsed": false,
    "pycharm": {
     "name": "#%%\n"
    }
   }
  },
  {
   "cell_type": "code",
   "execution_count": 85,
   "outputs": [
    {
     "data": {
      "text/plain": "<Figure size 432x288 with 9 Axes>",
      "image/png": "[encoded data removed]"
     },
     "metadata": {
      "needs_background": "light"
     },
     "output_type": "display_data"
    }
   ],
   "source": [
    "%matplotlib inline\n",
    "import matplotlib.pyplot as plt\n",
    "diamonds.hist(bins = 100)\n",
    "plt.show()"
   ],
   "metadata": {
    "collapsed": false,
    "pycharm": {
     "name": "#%%\n"
    }
   }
  },
  {
   "cell_type": "markdown",
   "source": [
    "## Create a test set, set it aside, never look at it"
   ],
   "metadata": {
    "collapsed": false
   }
  },
  {
   "cell_type": "code",
   "execution_count": 86,
   "outputs": [
    {
     "name": "stdout",
     "output_type": "stream",
     "text": [
      "43152\n",
      "10788\n"
     ]
    }
   ],
   "source": [
    "import numpy as np\n",
    "\n",
    "def split_train_test(data, test_ratio):\n",
    "    shuffled_indices = np.random.permutation(len(data))\n",
    "    test_set_size = int(len(data) * test_ratio)\n",
    "    test_indices = shuffled_indices[:test_set_size]\n",
    "    train_indices = shuffled_indices[test_set_size:]\n",
    "    return data.iloc[train_indices], data.iloc[test_indices]\n",
    "\n",
    "from sklearn.model_selection import train_test_split\n",
    "train_set, test_set = train_test_split(diamonds, test_size=0.2, random_state= 42)\n",
    "print(len(train_set))\n",
    "print(len(test_set))"
   ],
   "metadata": {
    "collapsed": false,
    "pycharm": {
     "name": "#%%\n"
    }
   }
  },
  {
   "cell_type": "markdown",
   "source": [
    "# split the diamond prices into categories"
   ],
   "metadata": {
    "collapsed": false
   }
  },
  {
   "cell_type": "code",
   "execution_count": 119,
   "outputs": [
    {
     "data": {
      "text/plain": "    carat        cut color clarity  depth  table  price     x     y     z  \\\n0    0.23      Ideal     E     SI2   61.5   55.0    326  3.95  3.98  2.43   \n1    0.21    Premium     E     SI1   59.8   61.0    326  3.89  3.84  2.31   \n2    0.23       Good     E     VS1   56.9   65.0    327  4.05  4.07  2.31   \n3    0.29    Premium     I     VS2   62.4   58.0    334  4.20  4.23  2.63   \n4    0.31       Good     J     SI2   63.3   58.0    335  4.34  4.35  2.75   \n5    0.24  Very Good     J    VVS2   62.8   57.0    336  3.94  3.96  2.48   \n6    0.24  Very Good     I    VVS1   62.3   57.0    336  3.95  3.98  2.47   \n7    0.26  Very Good     H     SI1   61.9   55.0    337  4.07  4.11  2.53   \n8    0.22       Fair     E     VS2   65.1   61.0    337  3.87  3.78  2.49   \n9    0.23  Very Good     H     VS1   59.4   61.0    338  4.00  4.05  2.39   \n10   0.30       Good     J     SI1   64.0   55.0    339  4.25  4.28  2.73   \n11   0.23      Ideal     J     VS1   62.8   56.0    340  3.93  3.90  2.46   \n12   0.22    Premium     F     SI1   60.4   61.0    342  3.88  3.84  2.33   \n13   0.31      Ideal     J     SI2   62.2   54.0    344  4.35  4.37  2.71   \n14   0.20    Premium     E     SI2   60.2   62.0    345  3.79  3.75  2.27   \n15   0.32    Premium     E      I1   60.9   58.0    345  4.38  4.42  2.68   \n16   0.30      Ideal     I     SI2   62.0   54.0    348  4.31  4.34  2.68   \n17   0.30       Good     J     SI1   63.4   54.0    351  4.23  4.29  2.70   \n18   0.30       Good     J     SI1   63.8   56.0    351  4.23  4.26  2.71   \n19   0.30  Very Good     J     SI1   62.7   59.0    351  4.21  4.27  2.66   \n20   0.30       Good     I     SI2   63.3   56.0    351  4.26  4.30  2.71   \n21   0.23  Very Good     E     VS2   63.8   55.0    352  3.85  3.92  2.48   \n22   0.23  Very Good     H     VS1   61.0   57.0    353  3.94  3.96  2.41   \n23   0.31  Very Good     J     SI1   59.4   62.0    353  4.39  4.43  2.62   \n24   0.31  Very Good     J     SI1   58.1   62.0    353  4.44  4.47  2.59   \n25   0.23  Very Good     G    VVS2   60.4   58.0    354  3.97  4.01  2.41   \n26   0.24    Premium     I     VS1   62.5   57.0    355  3.97  3.94  2.47   \n27   0.30  Very Good     J     VS2   62.2   57.0    357  4.28  4.30  2.67   \n28   0.23  Very Good     D     VS2   60.5   61.0    357  3.96  3.97  2.40   \n29   0.23  Very Good     F     VS1   60.9   57.0    357  3.96  3.99  2.42   \n\n   price_cat  \n0          1  \n1          1  \n2          1  \n3          1  \n4          1  \n5          1  \n6          1  \n7          1  \n8          1  \n9          1  \n10         1  \n11         1  \n12         1  \n13         1  \n14         1  \n15         1  \n16         1  \n17         1  \n18         1  \n19         1  \n20         1  \n21         1  \n22         1  \n23         1  \n24         1  \n25         1  \n26         1  \n27         1  \n28         1  \n29         1  ",
      "text/html": "<div>\n<style scoped>\n    .dataframe tbody tr th:only-of-type {\n        vertical-align: middle;\n    }\n\n    .dataframe tbody tr th {\n        vertical-align: top;\n    }\n\n    .dataframe thead th {\n        text-align: right;\n    }\n</style>\n<table border=\"1\" class=\"dataframe\">\n  <thead>\n    <tr style=\"text-align: right;\">\n      <th></th>\n      <th>carat</th>\n      <th>cut</th>\n      <th>color</th>\n      <th>clarity</th>\n      <th>depth</th>\n      <th>table</th>\n      <th>price</th>\n      <th>x</th>\n      <th>y</th>\n      <th>z</th>\n      <th>price_cat</th>\n    </tr>\n  </thead>\n  <tbody>\n    <tr>\n      <th>0</th>\n      <td>0.23</td>\n      <td>Ideal</td>\n      <td>E</td>\n      <td>SI2</td>\n      <td>61.5</td>\n      <td>55.0</td>\n      <td>326</td>\n      <td>3.95</td>\n      <td>3.98</td>\n      <td>2.43</td>\n      <td>1</td>\n    </tr>\n    <tr>\n      <th>1</th>\n      <td>0.21</td>\n      <td>Premium</td>\n      <td>E</td>\n      <td>SI1</td>\n      <td>59.8</td>\n      <td>61.0</td>\n      <td>326</td>\n      <td>3.89</td>\n      <td>3.84</td>\n      <td>2.31</td>\n      <td>1</td>\n    </tr>\n    <tr>\n      <th>2</th>\n      <td>0.23</td>\n      <td>Good</td>\n      <td>E</td>\n      <td>VS1</td>\n      <td>56.9</td>\n      <td>65.0</td>\n      <td>327</td>\n      <td>4.05</td>\n      <td>4.07</td>\n      <td>2.31</td>\n      <td>1</td>\n    </tr>\n    <tr>\n      <th>3</th>\n      <td>0.29</td>\n      <td>Premium</td>\n      <td>I</td>\n      <td>VS2</td>\n      <td>62.4</td>\n      <td>58.0</td>\n      <td>334</td>\n      <td>4.20</td>\n      <td>4.23</td>\n      <td>2.63</td>\n      <td>1</td>\n    </tr>\n    <tr>\n      <th>4</th>\n      <td>0.31</td>\n      <td>Good</td>\n      <td>J</td>\n      <td>SI2</td>\n      <td>63.3</td>\n      <td>58.0</td>\n      <td>335</td>\n      <td>4.34</td>\n      <td>4.35</td>\n      <td>2.75</td>\n      <td>1</td>\n    </tr>\n    <tr>\n      <th>5</th>\n      <td>0.24</td>\n      <td>Very Good</td>\n      <td>J</td>\n      <td>VVS2</td>\n      <td>62.8</td>\n      <td>57.0</td>\n      <td>336</td>\n      <td>3.94</td>\n      <td>3.96</td>\n      <td>2.48</td>\n      <td>1</td>\n    </tr>\n    <tr>\n      <th>6</th>\n      <td>0.24</td>\n      <td>Very Good</td>\n      <td>I</td>\n      <td>VVS1</td>\n      <td>62.3</td>\n      <td>57.0</td>\n      <td>336</td>\n      <td>3.95</td>\n      <td>3.98</td>\n      <td>2.47</td>\n      <td>1</td>\n    </tr>\n    <tr>\n      <th>7</th>\n      <td>0.26</td>\n      <td>Very Good</td>\n      <td>H</td>\n      <td>SI1</td>\n      <td>61.9</td>\n      <td>55.0</td>\n      <td>337</td>\n      <td>4.07</td>\n      <td>4.11</td>\n      <td>2.53</td>\n      <td>1</td>\n    </tr>\n    <tr>\n      <th>8</th>\n      <td>0.22</td>\n      <td>Fair</td>\n      <td>E</td>\n      <td>VS2</td>\n      <td>65.1</td>\n      <td>61.0</td>\n      <td>337</td>\n      <td>3.87</td>\n      <td>3.78</td>\n      <td>2.49</td>\n      <td>1</td>\n    </tr>\n    <tr>\n      <th>9</th>\n      <td>0.23</td>\n      <td>Very Good</td>\n      <td>H</td>\n      <td>VS1</td>\n      <td>59.4</td>\n      <td>61.0</td>\n      <td>338</td>\n      <td>4.00</td>\n      <td>4.05</td>\n      <td>2.39</td>\n      <td>1</td>\n    </tr>\n    <tr>\n      <th>10</th>\n      <td>0.30</td>\n      <td>Good</td>\n      <td>J</td>\n      <td>SI1</td>\n      <td>64.0</td>\n      <td>55.0</td>\n      <td>339</td>\n      <td>4.25</td>\n      <td>4.28</td>\n      <td>2.73</td>\n      <td>1</td>\n    </tr>\n    <tr>\n      <th>11</th>\n      <td>0.23</td>\n      <td>Ideal</td>\n      <td>J</td>\n      <td>VS1</td>\n      <td>62.8</td>\n      <td>56.0</td>\n      <td>340</td>\n      <td>3.93</td>\n      <td>3.90</td>\n      <td>2.46</td>\n      <td>1</td>\n    </tr>\n    <tr>\n      <th>12</th>\n      <td>0.22</td>\n      <td>Premium</td>\n      <td>F</td>\n      <td>SI1</td>\n      <td>60.4</td>\n      <td>61.0</td>\n      <td>342</td>\n      <td>3.88</td>\n      <td>3.84</td>\n      <td>2.33</td>\n      <td>1</td>\n    </tr>\n    <tr>\n      <th>13</th>\n      <td>0.31</td>\n      <td>Ideal</td>\n      <td>J</td>\n      <td>SI2</td>\n      <td>62.2</td>\n      <td>54.0</td>\n      <td>344</td>\n      <td>4.35</td>\n      <td>4.37</td>\n      <td>2.71</td>\n      <td>1</td>\n    </tr>\n    <tr>\n      <th>14</th>\n      <td>0.20</td>\n      <td>Premium</td>\n      <td>E</td>\n      <td>SI2</td>\n      <td>60.2</td>\n      <td>62.0</td>\n      <td>345</td>\n      <td>3.79</td>\n      <td>3.75</td>\n      <td>2.27</td>\n      <td>1</td>\n    </tr>\n    <tr>\n      <th>15</th>\n      <td>0.32</td>\n      <td>Premium</td>\n      <td>E</td>\n      <td>I1</td>\n      <td>60.9</td>\n      <td>58.0</td>\n      <td>345</td>\n      <td>4.38</td>\n      <td>4.42</td>\n      <td>2.68</td>\n      <td>1</td>\n    </tr>\n    <tr>\n      <th>16</th>\n      <td>0.30</td>\n      <td>Ideal</td>\n      <td>I</td>\n      <td>SI2</td>\n      <td>62.0</td>\n      <td>54.0</td>\n      <td>348</td>\n      <td>4.31</td>\n      <td>4.34</td>\n      <td>2.68</td>\n      <td>1</td>\n    </tr>\n    <tr>\n      <th>17</th>\n      <td>0.30</td>\n      <td>Good</td>\n      <td>J</td>\n      <td>SI1</td>\n      <td>63.4</td>\n      <td>54.0</td>\n      <td>351</td>\n      <td>4.23</td>\n      <td>4.29</td>\n      <td>2.70</td>\n      <td>1</td>\n    </tr>\n    <tr>\n      <th>18</th>\n      <td>0.30</td>\n      <td>Good</td>\n      <td>J</td>\n      <td>SI1</td>\n      <td>63.8</td>\n      <td>56.0</td>\n      <td>351</td>\n      <td>4.23</td>\n      <td>4.26</td>\n      <td>2.71</td>\n      <td>1</td>\n    </tr>\n    <tr>\n      <th>19</th>\n      <td>0.30</td>\n      <td>Very Good</td>\n      <td>J</td>\n      <td>SI1</td>\n      <td>62.7</td>\n      <td>59.0</td>\n      <td>351</td>\n      <td>4.21</td>\n      <td>4.27</td>\n      <td>2.66</td>\n      <td>1</td>\n    </tr>\n    <tr>\n      <th>20</th>\n      <td>0.30</td>\n      <td>Good</td>\n      <td>I</td>\n      <td>SI2</td>\n      <td>63.3</td>\n      <td>56.0</td>\n      <td>351</td>\n      <td>4.26</td>\n      <td>4.30</td>\n      <td>2.71</td>\n      <td>1</td>\n    </tr>\n    <tr>\n      <th>21</th>\n      <td>0.23</td>\n      <td>Very Good</td>\n      <td>E</td>\n      <td>VS2</td>\n      <td>63.8</td>\n      <td>55.0</td>\n      <td>352</td>\n      <td>3.85</td>\n      <td>3.92</td>\n      <td>2.48</td>\n      <td>1</td>\n    </tr>\n    <tr>\n      <th>22</th>\n      <td>0.23</td>\n      <td>Very Good</td>\n      <td>H</td>\n      <td>VS1</td>\n      <td>61.0</td>\n      <td>57.0</td>\n      <td>353</td>\n      <td>3.94</td>\n      <td>3.96</td>\n      <td>2.41</td>\n      <td>1</td>\n    </tr>\n    <tr>\n      <th>23</th>\n      <td>0.31</td>\n      <td>Very Good</td>\n      <td>J</td>\n      <td>SI1</td>\n      <td>59.4</td>\n      <td>62.0</td>\n      <td>353</td>\n      <td>4.39</td>\n      <td>4.43</td>\n      <td>2.62</td>\n      <td>1</td>\n    </tr>\n    <tr>\n      <th>24</th>\n      <td>0.31</td>\n      <td>Very Good</td>\n      <td>J</td>\n      <td>SI1</td>\n      <td>58.1</td>\n      <td>62.0</td>\n      <td>353</td>\n      <td>4.44</td>\n      <td>4.47</td>\n      <td>2.59</td>\n      <td>1</td>\n    </tr>\n    <tr>\n      <th>25</th>\n      <td>0.23</td>\n      <td>Very Good</td>\n      <td>G</td>\n      <td>VVS2</td>\n      <td>60.4</td>\n      <td>58.0</td>\n      <td>354</td>\n      <td>3.97</td>\n      <td>4.01</td>\n      <td>2.41</td>\n      <td>1</td>\n    </tr>\n    <tr>\n      <th>26</th>\n      <td>0.24</td>\n      <td>Premium</td>\n      <td>I</td>\n      <td>VS1</td>\n      <td>62.5</td>\n      <td>57.0</td>\n      <td>355</td>\n      <td>3.97</td>\n      <td>3.94</td>\n      <td>2.47</td>\n      <td>1</td>\n    </tr>\n    <tr>\n      <th>27</th>\n      <td>0.30</td>\n      <td>Very Good</td>\n      <td>J</td>\n      <td>VS2</td>\n      <td>62.2</td>\n      <td>57.0</td>\n      <td>357</td>\n      <td>4.28</td>\n      <td>4.30</td>\n      <td>2.67</td>\n      <td>1</td>\n    </tr>\n    <tr>\n      <th>28</th>\n      <td>0.23</td>\n      <td>Very Good</td>\n      <td>D</td>\n      <td>VS2</td>\n      <td>60.5</td>\n      <td>61.0</td>\n      <td>357</td>\n      <td>3.96</td>\n      <td>3.97</td>\n      <td>2.40</td>\n      <td>1</td>\n    </tr>\n    <tr>\n      <th>29</th>\n      <td>0.23</td>\n      <td>Very Good</td>\n      <td>F</td>\n      <td>VS1</td>\n      <td>60.9</td>\n      <td>57.0</td>\n      <td>357</td>\n      <td>3.96</td>\n      <td>3.99</td>\n      <td>2.42</td>\n      <td>1</td>\n    </tr>\n  </tbody>\n</table>\n</div>"
     },
     "execution_count": 119,
     "metadata": {},
     "output_type": "execute_result"
    }
   ],
   "source": [
    "diamonds[\"price_cat\"] = pd.cut(diamonds[\"price\"],\n",
    "                               bins=[0.0, 3000,6000,9000,12000,15000,18000,21000],\n",
    "                               labels=[1, 2, 3, 4, 5, 6, 7])\n",
    "#diamonds[\"price_cat\"].hist()\n",
    "diamonds.head(30)"
   ],
   "metadata": {
    "collapsed": false,
    "pycharm": {
     "name": "#%%\n"
    }
   }
  },
  {
   "cell_type": "markdown",
   "source": [
    "Now you are ready to do stratified sampling based on the price category. For this you can use Scikit-Learn’s StratifiedShuffleSplit class:"
   ],
   "metadata": {
    "collapsed": false
   }
  },
  {
   "cell_type": "code",
   "execution_count": 120,
   "outputs": [],
   "source": [
    "from sklearn.model_selection import StratifiedShuffleSplit\n",
    "\n",
    "split = StratifiedShuffleSplit(n_splits=1, test_size= 0.2, random_state= 42)\n",
    "\n",
    "for train_index, test_index in split.split(diamonds, diamonds[\"price_cat\"]):\n",
    "    strat_train_set = diamonds.loc[train_index]\n",
    "    strat_test_set = diamonds.loc[test_index]"
   ],
   "metadata": {
    "collapsed": false,
    "pycharm": {
     "name": "#%%\n"
    }
   }
  },
  {
   "cell_type": "code",
   "execution_count": 121,
   "outputs": [
    {
     "data": {
      "text/plain": "1    0.562384\n2    0.223489\n3    0.097423\n4    0.052558\n5    0.033556\n6    0.024842\n7    0.005747\nName: price_cat, dtype: float64"
     },
     "execution_count": 121,
     "metadata": {},
     "output_type": "execute_result"
    }
   ],
   "source": [
    "# Check to see if this worked:\n",
    "\n",
    "strat_test_set[\"price_cat\"].value_counts() / len(strat_test_set)\n",
    "# You can start by looking at the table category proportions in the test set:"
   ],
   "metadata": {
    "collapsed": false,
    "pycharm": {
     "name": "#%%\n"
    }
   }
  },
  {
   "cell_type": "code",
   "execution_count": 122,
   "outputs": [],
   "source": [
    "for set_ in (strat_train_set, strat_test_set):\n",
    "    set_.drop(\"price_cat\", axis = 1, inplace = True)\n",
    "\n",
    "#strat_test_set[\"price_cat\"].value_counts/ len(strat_test_set)"
   ],
   "metadata": {
    "collapsed": false,
    "pycharm": {
     "name": "#%%\n"
    }
   }
  }
 ],
 "metadata": {
  "kernelspec": {
   "display_name": "Python 3",
   "language": "python",
   "name": "python3"
  },
  "language_info": {
   "codemirror_mode": {
    "name": "ipython",
    "version": 2
   },
   "file_extension": ".py",
   "mimetype": "text/x-python",
   "name": "python",
   "nbconvert_exporter": "python",
   "pygments_lexer": "ipython2",
   "version": "2.7.6"
  }
 },
 "nbformat": 4,
 "nbformat_minor": 0
}